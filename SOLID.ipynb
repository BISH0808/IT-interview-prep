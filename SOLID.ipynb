{
  "nbformat": 4,
  "nbformat_minor": 0,
  "metadata": {
    "colab": {
      "provenance": [],
      "authorship_tag": "ABX9TyNzAjaiEgY4Gc/xthVxJVKk",
      "include_colab_link": true
    },
    "kernelspec": {
      "name": "python3",
      "display_name": "Python 3"
    },
    "language_info": {
      "name": "python"
    }
  },
  "cells": [
    {
      "cell_type": "markdown",
      "metadata": {
        "id": "view-in-github",
        "colab_type": "text"
      },
      "source": [
        "<a href=\"https://colab.research.google.com/github/BISH0808/IT-interview-prep/blob/main/SOLID.ipynb\" target=\"_parent\"><img src=\"https://colab.research.google.com/assets/colab-badge.svg\" alt=\"Open In Colab\"/></a>"
      ]
    },
    {
      "cell_type": "code",
      "execution_count": null,
      "metadata": {
        "id": "K7c-PJhYTU4z"
      },
      "outputs": [],
      "source": []
    },
    {
      "cell_type": "markdown",
      "source": [
        "# SOLID"
      ],
      "metadata": {
        "id": "Wg_TPST2TW9f"
      }
    },
    {
      "cell_type": "markdown",
      "source": [
        "##Предисло́вие"
      ],
      "metadata": {
        "id": "-nqGxUphTYQR"
      }
    },
    {
      "cell_type": "markdown",
      "source": [
        "\"SOLID - это как юношеский секс, все о нём говорят, но мало, кто практикует.\"\n",
        "\n",
        " © Комментатор из Youtube"
      ],
      "metadata": {
        "id": "1rdNqqYDTezo"
      }
    },
    {
      "cell_type": "markdown",
      "source": [
        "## Основные материалы"
      ],
      "metadata": {
        "id": "5g3z5iIUTjsI"
      }
    },
    {
      "cell_type": "markdown",
      "source": [
        "Видео на youtube от ULBI-TV - https://www.youtube.com/watch?v=TxZwqVTaCmA"
      ],
      "metadata": {
        "id": "yrGdMTvQTo0f"
      }
    },
    {
      "cell_type": "markdown",
      "source": [],
      "metadata": {
        "id": "rUWah-hbUMKk"
      }
    },
    {
      "cell_type": "code",
      "source": [],
      "metadata": {
        "id": "n03dk0clTv4h"
      },
      "execution_count": null,
      "outputs": []
    },
    {
      "cell_type": "code",
      "source": [],
      "metadata": {
        "id": "RIjkbxy6TwX_"
      },
      "execution_count": null,
      "outputs": []
    }
  ]
}