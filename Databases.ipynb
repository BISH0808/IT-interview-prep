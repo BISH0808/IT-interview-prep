{
  "nbformat": 4,
  "nbformat_minor": 0,
  "metadata": {
    "colab": {
      "provenance": [],
      "toc_visible": true,
      "authorship_tag": "ABX9TyPDhZo3tab7zzuY3k5v/JVq",
      "include_colab_link": true
    },
    "kernelspec": {
      "name": "python3",
      "display_name": "Python 3"
    },
    "language_info": {
      "name": "python"
    }
  },
  "cells": [
    {
      "cell_type": "markdown",
      "metadata": {
        "id": "view-in-github",
        "colab_type": "text"
      },
      "source": [
        "<a href=\"https://colab.research.google.com/github/BISH0808/IT-interview-prep/blob/main/Databases.ipynb\" target=\"_parent\"><img src=\"https://colab.research.google.com/assets/colab-badge.svg\" alt=\"Open In Colab\"/></a>"
      ]
    },
    {
      "cell_type": "code",
      "source": [
        "!pip install wikipedia\n",
        "import wikipedia\n",
        "\n",
        "from IPython import display"
      ],
      "metadata": {
        "id": "q7RCA7_L99Sn",
        "outputId": "6b713acc-3763-48a0-bab9-198485ef3da8",
        "colab": {
          "base_uri": "https://localhost:8080/"
        }
      },
      "execution_count": null,
      "outputs": [
        {
          "output_type": "stream",
          "name": "stdout",
          "text": [
            "Looking in indexes: https://pypi.org/simple, https://us-python.pkg.dev/colab-wheels/public/simple/\n",
            "Collecting wikipedia\n",
            "  Downloading wikipedia-1.4.0.tar.gz (27 kB)\n",
            "  Preparing metadata (setup.py) ... \u001b[?25l\u001b[?25hdone\n",
            "Requirement already satisfied: beautifulsoup4 in /usr/local/lib/python3.8/dist-packages (from wikipedia) (4.6.3)\n",
            "Requirement already satisfied: requests<3.0.0,>=2.0.0 in /usr/local/lib/python3.8/dist-packages (from wikipedia) (2.25.1)\n",
            "Requirement already satisfied: idna<3,>=2.5 in /usr/local/lib/python3.8/dist-packages (from requests<3.0.0,>=2.0.0->wikipedia) (2.10)\n",
            "Requirement already satisfied: urllib3<1.27,>=1.21.1 in /usr/local/lib/python3.8/dist-packages (from requests<3.0.0,>=2.0.0->wikipedia) (1.24.3)\n",
            "Requirement already satisfied: certifi>=2017.4.17 in /usr/local/lib/python3.8/dist-packages (from requests<3.0.0,>=2.0.0->wikipedia) (2022.12.7)\n",
            "Requirement already satisfied: chardet<5,>=3.0.2 in /usr/local/lib/python3.8/dist-packages (from requests<3.0.0,>=2.0.0->wikipedia) (4.0.0)\n",
            "Building wheels for collected packages: wikipedia\n",
            "  Building wheel for wikipedia (setup.py) ... \u001b[?25l\u001b[?25hdone\n",
            "  Created wheel for wikipedia: filename=wikipedia-1.4.0-py3-none-any.whl size=11695 sha256=d785a0d5b9d2285c524ed197be81fec829628d2568c335ee6ecf62f48bdf6897\n",
            "  Stored in directory: /root/.cache/pip/wheels/07/93/05/72c05349177dca2e0ba31a33ba4f7907606f7ddef303517c6a\n",
            "Successfully built wikipedia\n",
            "Installing collected packages: wikipedia\n",
            "Successfully installed wikipedia-1.4.0\n"
          ]
        }
      ]
    },
    {
      "cell_type": "markdown",
      "source": [
        "# Databases Preview"
      ],
      "metadata": {
        "id": "2TLsOmu2y0o3"
      }
    },
    {
      "cell_type": "code",
      "source": [
        "wikipedia.summary(\"Database\")\n"
      ],
      "metadata": {
        "id": "VKqJIJ6m_RSJ",
        "outputId": "41332163-230a-4fc4-8bd9-07537a6d27fd",
        "colab": {
          "base_uri": "https://localhost:8080/",
          "height": 105
        }
      },
      "execution_count": null,
      "outputs": [
        {
          "output_type": "execute_result",
          "data": {
            "text/plain": [
              "'In computing, a database is an organized collection of data stored and accessed electronically. Small databases can be stored on a file system, while large databases are hosted on computer clusters or cloud storage. The design of databases spans formal techniques and practical considerations, including data modeling, efficient data representation and storage, query languages, security and privacy of sensitive data, and distributed computing issues, including supporting concurrent access and fault tolerance.\\nA database management system (DBMS) is the software that interacts with end users, applications, and the database itself to capture and analyze the data. The DBMS software additionally encompasses the core facilities provided to administer the database. The sum total of the database, the DBMS and the associated applications can be referred to as a database system. Often the term \"database\" is also used loosely to refer to any of the DBMS, the database system or an application associated with the database.\\nComputer scientists may classify database management systems according to the database models that they support. Relational databases became dominant in the 1980s. These model data as rows and columns in a series of tables, and the vast majority use SQL for writing and querying data. In the 2000s, non-relational databases became popular, collectively referred to as NoSQL, because they use different query languages.'"
            ],
            "application/vnd.google.colaboratory.intrinsic+json": {
              "type": "string"
            }
          },
          "metadata": {},
          "execution_count": 3
        }
      ]
    },
    {
      "cell_type": "markdown",
      "source": [
        "Базы данных делятся на:\n",
        "* SQL (реляционные) \n",
        "* нереляционные "
      ],
      "metadata": {
        "id": "VSKIUxDt0jMG"
      }
    },
    {
      "cell_type": "markdown",
      "source": [
        "** SQL (Реляционные) базы данных** -"
      ],
      "metadata": {
        "id": "E2Z6BvkrY5kd"
      }
    },
    {
      "cell_type": "markdown",
      "source": [],
      "metadata": {
        "id": "_oyjvgs6Y_XM"
      }
    },
    {
      "cell_type": "markdown",
      "source": [
        "# SQL/relational Databases (реляционные базы данных)"
      ],
      "metadata": {
        "id": "HXy23eHYWnul"
      }
    },
    {
      "cell_type": "markdown",
      "source": [
        "По структуре реляицонная база данных очень напоминает Excel документ со своими колонками и строками. \n",
        "Строка является какой-то определенной записью, а каждая запись из колонок - это заданное свойство этой записи."
      ],
      "metadata": {
        "id": "uLxAsEg7WrQl"
      }
    },
    {
      "cell_type": "markdown",
      "source": [
        "![image.png](data:image/png;base64,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)"
      ],
      "metadata": {
        "id": "eH15XXscqXCH"
      }
    },
    {
      "cell_type": "markdown",
      "source": [
        "Зачастую данные в разных таблицах могут быть связаны, то есть иметь связь (relation), поэтому эти базы данных называются реляционные (relational). В примере снизу данные из 1ой строки связаны с данными из 1ой, 2ой и 5ой строк."
      ],
      "metadata": {
        "id": "hBv-NtsTqXqN"
      }
    },
    {
      "cell_type": "markdown",
      "source": [
        "![image.png](data:image/png;base64,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)"
      ],
      "metadata": {
        "id": "bbnqX5KJw162"
      }
    },
    {
      "cell_type": "markdown",
      "source": [],
      "metadata": {
        "id": "3Qdj56F4w7_O"
      }
    },
    {
      "cell_type": "markdown",
      "source": [
        "# NoSQL Databases (нереляционные базы данных)"
      ],
      "metadata": {
        "id": "LCCRvDJWlPRy"
      }
    },
    {
      "cell_type": "markdown",
      "source": [
        "## MongoDB"
      ],
      "metadata": {
        "id": "Hk30AqfJ0nb2"
      }
    },
    {
      "cell_type": "markdown",
      "source": [
        "Классное видео от Ulbi по MongoDB\n",
        "\n",
        "https://www.youtube.com/watch?v=LNvmI8a9jwY"
      ],
      "metadata": {
        "id": "Puth5FOiSlHZ"
      }
    },
    {
      "cell_type": "markdown",
      "source": [
        "Оьсновные особенности:\n",
        "\n",
        "*   Для хранения данных используетя json подобный формат\n",
        "*   Не требует описания схем таблиц\n",
        "*   Данные хранятся в виде коллекций и документов\n",
        "*   База данных содержит коллекции, коллекции содержат документы, документы хранятся в json подобном формате\n",
        "* У документов в одной коллекции не обязательно должна быть строгая структура\n",
        "\n"
      ],
      "metadata": {
        "id": "c9E1IR3MYqjk"
      }
    },
    {
      "cell_type": "markdown",
      "source": [],
      "metadata": {
        "id": "7BKa_hcwYzjO"
      }
    },
    {
      "cell_type": "markdown",
      "source": [
        "### Установка"
      ],
      "metadata": {
        "id": "iCaAoqn2DbY-"
      }
    },
    {
      "cell_type": "markdown",
      "source": [
        "Установка с сайти https://www.mongodb.com/"
      ],
      "metadata": {
        "id": "U2gxNwbbDdQF"
      }
    },
    {
      "cell_type": "markdown",
      "source": [
        "### Theory"
      ],
      "metadata": {
        "id": "TiZ-XokU0pqg"
      }
    },
    {
      "cell_type": "markdown",
      "source": [],
      "metadata": {
        "id": "0sx649XE98kh"
      }
    },
    {
      "cell_type": "markdown",
      "source": [
        "MongoDB - это документоориентированная система управления базой данных"
      ],
      "metadata": {
        "id": "zXVe3foQ0rOW"
      }
    },
    {
      "cell_type": "markdown",
      "source": [],
      "metadata": {
        "id": "IKgV9Zr6TYkI"
      }
    },
    {
      "cell_type": "markdown",
      "source": [
        "### Полезные команды"
      ],
      "metadata": {
        "id": "Qxyk3XXzWnJ8"
      }
    },
    {
      "cell_type": "markdown",
      "source": [
        "show databases - показывает базы данных\n",
        "use mongo - использовать базу данных в коллекции\n"
      ],
      "metadata": {
        "id": "06ddPbSeh3s8"
      }
    }
  ]
}