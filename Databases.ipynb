{
  "nbformat": 4,
  "nbformat_minor": 0,
  "metadata": {
    "colab": {
      "provenance": [],
      "toc_visible": true,
      "authorship_tag": "ABX9TyNm1lzcKRJ9iAJHLJrDpnlm",
      "include_colab_link": true
    },
    "kernelspec": {
      "name": "python3",
      "display_name": "Python 3"
    },
    "language_info": {
      "name": "python"
    }
  },
  "cells": [
    {
      "cell_type": "markdown",
      "metadata": {
        "id": "view-in-github",
        "colab_type": "text"
      },
      "source": [
        "<a href=\"https://colab.research.google.com/github/BISH0808/IT-interview-prep/blob/main/Databases.ipynb\" target=\"_parent\"><img src=\"https://colab.research.google.com/assets/colab-badge.svg\" alt=\"Open In Colab\"/></a>"
      ]
    },
    {
      "cell_type": "code",
      "source": [
        "!pip install wikipedia\n",
        "import wikipedia\n",
        "\n",
        "from IPython import display"
      ],
      "metadata": {
        "id": "q7RCA7_L99Sn",
        "outputId": "6b713acc-3763-48a0-bab9-198485ef3da8",
        "colab": {
          "base_uri": "https://localhost:8080/"
        }
      },
      "execution_count": null,
      "outputs": [
        {
          "output_type": "stream",
          "name": "stdout",
          "text": [
            "Looking in indexes: https://pypi.org/simple, https://us-python.pkg.dev/colab-wheels/public/simple/\n",
            "Collecting wikipedia\n",
            "  Downloading wikipedia-1.4.0.tar.gz (27 kB)\n",
            "  Preparing metadata (setup.py) ... \u001b[?25l\u001b[?25hdone\n",
            "Requirement already satisfied: beautifulsoup4 in /usr/local/lib/python3.8/dist-packages (from wikipedia) (4.6.3)\n",
            "Requirement already satisfied: requests<3.0.0,>=2.0.0 in /usr/local/lib/python3.8/dist-packages (from wikipedia) (2.25.1)\n",
            "Requirement already satisfied: idna<3,>=2.5 in /usr/local/lib/python3.8/dist-packages (from requests<3.0.0,>=2.0.0->wikipedia) (2.10)\n",
            "Requirement already satisfied: urllib3<1.27,>=1.21.1 in /usr/local/lib/python3.8/dist-packages (from requests<3.0.0,>=2.0.0->wikipedia) (1.24.3)\n",
            "Requirement already satisfied: certifi>=2017.4.17 in /usr/local/lib/python3.8/dist-packages (from requests<3.0.0,>=2.0.0->wikipedia) (2022.12.7)\n",
            "Requirement already satisfied: chardet<5,>=3.0.2 in /usr/local/lib/python3.8/dist-packages (from requests<3.0.0,>=2.0.0->wikipedia) (4.0.0)\n",
            "Building wheels for collected packages: wikipedia\n",
            "  Building wheel for wikipedia (setup.py) ... \u001b[?25l\u001b[?25hdone\n",
            "  Created wheel for wikipedia: filename=wikipedia-1.4.0-py3-none-any.whl size=11695 sha256=d785a0d5b9d2285c524ed197be81fec829628d2568c335ee6ecf62f48bdf6897\n",
            "  Stored in directory: /root/.cache/pip/wheels/07/93/05/72c05349177dca2e0ba31a33ba4f7907606f7ddef303517c6a\n",
            "Successfully built wikipedia\n",
            "Installing collected packages: wikipedia\n",
            "Successfully installed wikipedia-1.4.0\n"
          ]
        }
      ]
    },
    {
      "cell_type": "markdown",
      "source": [
        "# Databases Preview"
      ],
      "metadata": {
        "id": "2TLsOmu2y0o3"
      }
    },
    {
      "cell_type": "code",
      "source": [
        "wikipedia.summary(\"Database\")\n"
      ],
      "metadata": {
        "id": "VKqJIJ6m_RSJ",
        "outputId": "41332163-230a-4fc4-8bd9-07537a6d27fd",
        "colab": {
          "base_uri": "https://localhost:8080/",
          "height": 105
        }
      },
      "execution_count": null,
      "outputs": [
        {
          "output_type": "execute_result",
          "data": {
            "text/plain": [
              "'In computing, a database is an organized collection of data stored and accessed electronically. Small databases can be stored on a file system, while large databases are hosted on computer clusters or cloud storage. The design of databases spans formal techniques and practical considerations, including data modeling, efficient data representation and storage, query languages, security and privacy of sensitive data, and distributed computing issues, including supporting concurrent access and fault tolerance.\\nA database management system (DBMS) is the software that interacts with end users, applications, and the database itself to capture and analyze the data. The DBMS software additionally encompasses the core facilities provided to administer the database. The sum total of the database, the DBMS and the associated applications can be referred to as a database system. Often the term \"database\" is also used loosely to refer to any of the DBMS, the database system or an application associated with the database.\\nComputer scientists may classify database management systems according to the database models that they support. Relational databases became dominant in the 1980s. These model data as rows and columns in a series of tables, and the vast majority use SQL for writing and querying data. In the 2000s, non-relational databases became popular, collectively referred to as NoSQL, because they use different query languages.'"
            ],
            "application/vnd.google.colaboratory.intrinsic+json": {
              "type": "string"
            }
          },
          "metadata": {},
          "execution_count": 3
        }
      ]
    },
    {
      "cell_type": "markdown",
      "source": [
        "A database is a structured collection of data that is stored and organized in a way that allows for efficient retrieval and manipulation of information. Databases are used in a variety of applications, including financial record-keeping, e-commerce, and customer relationship management.\n",
        "\n",
        "There are several types of databases, including:\n",
        "\n",
        "*    Relational databases: This type of database uses a relational model to store data in tables, with rows representing records and columns representing fields.\n",
        "\n",
        "*    NoSQL databases: This type of database does not use the relational model and is often used for handling large amounts of unstructured data.\n",
        "\n",
        "*    Object-oriented databases: This type of database uses objects to store data and is often used in applications that require complex data relationships.\n",
        "\n",
        "*    Graph databases: This type of database uses graph structures to represent relationships between data elements.\n",
        "\n",
        "Regardless of the type of database, they all provide a way for applications to store and retrieve data in a structured, organized manner. This allows for efficient data management and helps to ensure the accuracy and consistency of information.\n",
        "\n",
        " #ChatGPT"
      ],
      "metadata": {
        "id": "llcFEZMgZvY7"
      }
    },
    {
      "cell_type": "markdown",
      "source": [
        "Базы данных делятся на:\n",
        "* SQL (реляционные) \n",
        "* нереляционные "
      ],
      "metadata": {
        "id": "VSKIUxDt0jMG"
      }
    },
    {
      "cell_type": "markdown",
      "source": [
        "** SQL (Реляционные) базы данных** -"
      ],
      "metadata": {
        "id": "E2Z6BvkrY5kd"
      }
    },
    {
      "cell_type": "markdown",
      "source": [],
      "metadata": {
        "id": "_oyjvgs6Y_XM"
      }
    },
    {
      "cell_type": "markdown",
      "source": [
        "# SQL/relational Databases (реляционные базы данных)"
      ],
      "metadata": {
        "id": "HXy23eHYWnul"
      }
    },
    {
      "cell_type": "markdown",
      "source": [
        "A relational database is a type of database that uses a relational model to store data in tables, with rows representing records and columns representing fields. The relational model is based on the mathematical concept of a relation, which is a set of ordered pairs. In a relational database, each table represents a relation and the columns in a table represent the attributes of that relation.\n",
        "\n",
        "The key advantage of a relational database is that it allows for data to be organized and related in a logical, easy-to-understand way. Relationships between tables can be established using a common field, known as a foreign key. This allows for data to be retrieved and manipulated in a flexible and efficient manner.\n",
        "\n",
        "Relational databases also typically use a Structured Query Language (SQL) to interact with the database and manipulate the data. SQL is a standardized language that is widely used and well-understood, making it a popular choice for database management.\n",
        "\n",
        "Relational databases are used in a wide range of applications, including financial record-keeping, e-commerce, and customer relationship management. They are also widely used in large enterprises, as they are highly scalable and can handle large amounts of data.\n",
        "\n",
        "There are several popular relational database management systems (RDBMS) available, including MySQL, Oracle, Microsoft SQL Server, and PostgreSQL. Each of these systems provides a different set of features and capabilities, and the choice of which to use will depend on the specific needs and requirements of the application."
      ],
      "metadata": {
        "id": "yw4AfJH_aNN7"
      }
    },
    {
      "cell_type": "markdown",
      "source": [
        "По структуре реляционная база данных очень напоминает Excel документ со своими колонками и строками. \n",
        "\n",
        "Строка является какой-то определенной записью, а каждая запись из колонок - это заданное свойство этой записи."
      ],
      "metadata": {
        "id": "uLxAsEg7WrQl"
      }
    },
    {
      "cell_type": "markdown",
      "source": [
        "![image.png](data:image/png;base64,iVBORw0KGgoAAAANSUhEUgAAAYcAAAGfCAYAAAC0mx6IAAARIklEQVR4nO3d6Y7juhEG0FaQ939l5cegJxpTtrWQFKt4DhAgN4tb1sKPVZTkZV3X9QcANv7z9AYAMB7hAEBBOABQ+O/TGwC8tyzL339veZCehAOhGTyhDW0lwtoGA1CXcACgIBxIQUsJ6hIOABSEAwAF4QBAQTgAUBAOABSEA2Ft71DyzAPUJRxIQ0BAPcIBgIJwILTXh99UD1CHcIAgBB89CQfCy/zqjMzfjbF5ZXdgtWaSBqA4lmVxvOhC5TCQZVn+/uuJv8uYhAFPEA6DemKwFhDAL22lwGrMKF8D4fefzVZhbiqHgTwxIL/7m6oImJtwGFivAVpAAK+Ew2Ceaues67r7twUEzEk4AFAQDoPrPXN/V0EAc3G3ElzgAUSyUzkMaLQBw7rDv+wPZiAcAnhiMBotoM5oub8EA7PQVhrUuq5DDUTR3unT62G+o5+/PZaR9mNNR8/nK/vn22fPus/vEA68NVpAjSbTgHPlOD/9/c9sc7TJzQiEAyEdHRgMCt/1mACMMMlwLpwjHAa2nbk7sXknYkvl7jbtfWcPcdYlHAKJHhBHLtSRv1/UdYOz6y+tf3q1VzD8/ucC4hrhEEy0gGh1YX7bB5kHhKvf7ci5s/ffb/+zEfdrpOshEreyDi7yiT/iQBLVmVn/p6fc372iPapP+8WPWN2jcgggW2n8qW0xamU0+v7/NOMffdsZk3CgidcB6dOAHy38RgmvM9XEXgCfOUaRvDuXsny/XrSVqC7SQH/EKN+n5eCWZeAUDPWoHGgu04U50nc504IbqTq72jrc2/7od8CNTOUQxOh3jPzK2qoYxdX9Odo502N7vH7+HuEQ1GgX+8jsq/N+7/Rp+WpydxONTVuJZp6ctY3URqnt7pPzT/4U7Z1jsnf3lcqgHZVDIC4Eoqv9iousE4ARCAfgkqsD895awJkWU+vXe/CHthLVXLlIXdhsuaFhHMKBXTUG7VGfdua6mms5dz5r78G+O9tBSThQOPPWy6OfleV1yjMEXs9XgHvFx7iEA11EvviPzHCz3kHT67tcqSIES1vCgZ+fnzqvHZhlofBu9dCi+qgVTq2PWYvPzxTGIxEOE+k9WB+ZDT45+zszoL57ed3r5xz9/99xpoq5o2WAPfH3OUc4JPf0Qt3VXx+LIGtl9LSI50JGwoF/uDDfO1MJ9Xa0Mtlu3+uT1j05z8YnHCbjovzjid53rX3/LggcW2oSDskZML67s+j+lFG244yI2zwz4QATM2DzjnBgChaP4Rwv3gOgIBxIS8sErtNWIjUBAdeoHAAoCIfALLICrQgHAArCAYCCBelgLLACPagcACgIBwAKwgGAgnAAoCAcACgIBwAKwgGAgnAAoCAcACgIBwAKwgGAgnAAoCAcACgIBwAKwgGAgnAAoODHfoBT/Hb5H9l/eEvlABwmGOahcpicix3YIxyCMqjztOxtlSO212G2/SEcAhEIjCDbIMi+acLBwLrPhX5d5lkjTBMO2bwORgYqoCbhEIhBH+hlmnAwsAIclzIctFgA7vEQXAIW24HahEMyKiWgBuEAQEE4AFAQDgAUpg0Hi7gA76W8lfWd10D4/ecai7ivn91rYdhtu0AL01YOW6oIgH9NVTm0IFiAjKYKh08vq2v5dwCimSocXt0dxPfCpWcwWG8AWrHmUJEBGshi6sqhpt7BYK0jhqPHycSC0agcEjCwjEmAE5nK4SQXPEet63r4fFmW5W/Iv/v/vH7ep0nB6/+u5XM41r5ymjoczl4wowTDKNvBd0cH8Jb2/k7NB0CvbIcQGd/U4XDE6AOxiyyuM5VFK+/uuLNWgnC4aIQLm3xqtX8+tZK+nbdnzuu9V9IceZ7o7rUjlNqbOhyuDPBOymOuXPz2bV3vzu+jIXHVXkBE/Buzmzoczhr9ZOy16Nji8ym13r/vPv/oefR05fzEuslMhEMwZxb1aszenx4Aoou0CHt2ArD97z6dJ3uVyt7nHtlXo52P2+osWzUjHHjraG/6aKB8GxCubsenz6e/K8fhzDEeLSCy8hAcp/W8PTPzQDDSd6vZNlyW5dai9jcmAX2oHBI585DU1pGLs8UFOdLg2NvRiulbELcK6rPH24w+n6nDwcnc1p0B4+hMNssxrN1j7xkMNakKxjFtWynLoJLFzIPC9ru32g899u+6rocXqRnftOHwaubBKYKZjk/t7zrCvhMU8UzdVvo1wsXDe1mOz5kB8kib6an9cncbWvzIFvVNGQ4t+rhR73Ee5UI7s/9G2eantTrnnty/Ua+jjLSVJvb0IGsQuHZX0Na720Z/+/9HPz/qsYi63RFMWTlsObn+L/K+iLLtUbbziKe+y2j7MOtT0tOHwzdnflAlstG3/8xT1yOrMXi0eqag1r68Ww0xhunDIVPSP+XdPtx7nfPWDGsMow/k8M6Uaw7v+rZnH/ufybd9VGNmf7YSizJARtlO2Jq+cuCPWi2yszPllr+pkantF539H49woLkr1cPvnTaj/P4xzGbacKgxsIw4OJ3Zpm+z9iOf1boN92kb90JCW5AnZLxjadpw4I8ad87c/cwjIfXtAUSgLuHAEL4Fyp1fqMswi4Peprxbifi+Pf179gnhnlQ6+WU4xioHQhtx8GdO2X7wSOUAHQgxohEOABSEAwAFaw7QidYSkagcACikqhzOvBCuF7NFIKJU4TCiq6+pBniStlJnXgsORJCqcvidlY/wquZvASAggJGlCofWzoTOkV9Gq7k9R7YJ4ChtpYuuDPSt3/Xj1+zgWZleH69yeMDVgDhzskU/MaOxv9kT+YephEMgry/2uvMaa4BPtJUSGfUV1UA8KoeEBEQfI9wVx3iynBcqBwAKwgGAgnAAoCAcDnInEFtZ+srUl+VZB+FwQOQDDHCFcPjiXTCYLQKZCYcPVAzArITDQSoFYCYegnuhWgBQOQBUl+GOJeFwgJYSMBttpRc9fqQHYHQqBwAKwuECbSYgO+FwkmAAZiAcvrDeAMxIOABQEA4naCkBsxAOABSEAwAF4QAn+aEfZuAJ6S9c/MCMVA4AFIQDAAXhAEBBOABQEA7BZPgREWB8wgGAgnAAoCAcACgIBwAKwiEgi9LP8eoMZuH1GTeMMjCPsh2jMXjDdcLhJANxHK/HSljAccLhDSGQT+1j6hzpQ6g/I304tL6Anzpx9b4/M3Dn4Vx/RvpwaMEJOr7XYyQscmhxHF3P+4TDB06aPGodS7PYvnqE+u/fcDz/lT4csh7wdV3/ntTLsqT9nszt97zuGRJHzHC9pQ8HIL5Wg/HV0JmhghQOwLRqVCZZ17OEAzC9s7P/rIGw5fUZACet65q2nfRL5QBw0aeAiF5dqBwAKAgHAArCAYCCNYcbPvUUsy9WAbkJhxOiLzABHKWtdJBgAGYiHCqY4Z5nYC7aSheMEgRevge0onIAoCAcACgIBwAK1hwO+tbPdzcTkInKAYCCcGjAXUNAdMKhAi0lIBvhcJNgADISDjfsBUPvltL27wkqoBbhUJG1BiAL4VCJYAAyEQ4AFIQDQAPR1wOFAwAF4XBRxJkAwFHC4YLXYLAYDWQjHE5SMcxre+xNCMjOW1kraBUYBiCILfKvNaocACgIBwAK2konRSoLgedFbS2pHAAoCAcACsIBoKMot8MLB4DGoqwzbFmQ7qDnTCHKrCQ6+5kzhMPkDBhAFsLhAiEAZCccvqgRBK1LSu/86cN+Zibpw6HnLN+AAWSRPhxaEAJAdsLhC0HAnkivQYArUobD9l0mv/8Md72eV5CZh+AAKAgHAArCAS7SYiIz4QAnWL9iFsIBgELKu5V+ftr++tKndoKZ5Vzc0kpWKoeTvvWZl2XRi05OGDAD4XDQ2UFfQABb20lFhPEhbVuph9cZZIQDDnCEyqEiYQFkoXI46Gif2SsWgAxSVw7RenxXzfI9gX5ShwMA1wiHBszkgeiEQwcCAohGOABQSB8OT7V4nnyKVqUC3JU+HJ7UM5i80gGoSTjABW46IDsPwVUywgDR8k20wFxUDlDBCJMDqEk4dNT7dd4GrLZUZpwVqR2prVTJu4Gi9wng3U5ADSqHxvZCw+ANjE44dPAuIIQEMCrh0EnPtlOkviYwJuHQ0bqu2kxACMLhAQICGJ1weIjbIIGRuZW1AVUAEJ3KYRAqCWAkwgGAgrZSA6oAIDqVAwAFlQNMwE0SnCUcLop0sUXa1sjsZzIRDie4+IFZpA6HvcHcAM+s3CgxhihjUOpwaG30i217Eo6+rVHZx5wV5ed8hcNJox5InjfyhQ5nLesEZ/PMs7uZv3sv9jFnvbaWRjxv0j/n4MIFRhNhLEofDtBTlMVG+EY4wE0RZoFwlnAAoOBupZP22gZmjkS5PRGOUjkAUBAOABRSt5Vq38Ya4d5kgBpSh0MtZ9cZPFsBRKet9IX71jlqOxFw3vDN6OeLcAAYwGgBoa10kjYRMAOVwwmCgW9GbxUwltcxZaRzRjgAPGjUSae20htnEvzT/9bTskBEwuGEkUo+gJa0lToQKkA0KofKLEgCGQiHN6wTADPTVgKgIBwAKAgHAArCAYCCcGjEnUpAZMIhMb8rAVwlHJJSuUAcIz4f5TmHRszUgchUDhMQVBDLCNWDcAAYwGiTOOEAQEE4AAxipIVp4QBAQTgADOrJ6kE4AAxklIXptM85vCbu0/27J8383Z9m33PEKIGwpXIAoCAcACikbSut69r1xXN7f+tbS6HlNnnp3nPsezJIGw5P0mcGohMOnfScQZq5AndZc+jAAA1Eo3Ko4LWN9GQYaGmNZVkWkwNCUjkkZlB6hv1OBsKhMgMDr1RzRCQcACgIB2hABUl0wgGAgnC4ST8ZyEg43CAYgKyEQ0X6zEAWHoKraKSH4QDuUDk0tCyL1hMQknDoQEAA0Wgr3fCpbbT3M6XaTEAUKodG9oJABQFEIRwAKAiHhtZ11UoCQhIOABSEAwAF4QBAQTg05g4lICLPOVQmDPj5cR4Qn8oBGnPHGhEJh07c1joPVQN3bceKp84n4dCBUACiseZQmSBgy/lADU+8m03lADCgpycWwgGAQtq20t4rs2cz43cejWMwn6dn/LWkDQeAJ2wnBJGDQjgANHK1chwhVNKGw7quaRL8jBm/80jsf7K0Ei1IAwxmhIBJWzmMxGwS5nHnGh8hFH6pHAAGMcJrM36pHBp6+uACXDVN5dB7oBYMQGSpw+G199drwBYMwFXv1ix6jyvaSpXtHUCL0EA0qSuHn5/nB+an/z7AFenD4UmCAbhihNaScKhkWRZrDUBzvcYZ4VCBdQYgG+EAMKBPE8we1YNwqGxdV1UDUMWTY4lwABjYUwExXThYNAaieSIgpgiHp56UBohqinDYIyAA3psmHCwSA5H1HsOmCYefnzY7VwUCZDRVOABwjHCoSOsKyMIruwGC6DkBFQ4V1Vp/UIEAT9NWGtDVN7xaHAdqEQ43tZzlG+yBp2grNXA1MPbCYFkWbSagO5VDBbVez/Huja5XPk+gAHcIhwEZ2IE9fiY0IC/3A1r6HVP8TGhAtWb8rwdfJQFs+SW44GocwJqL20BcXrwX3F57afuvb+4M6lpbMI/W1/fUt7Ie3bk1E/vMAdVOiu3dbciZQ9s529a6rt3On6nD4ajtwThy8vc8gMQwy/lgvSyPZZ3s6M1ykQL5tRy+VQ4/n3ewMKG2rPMx10ouwuELi7zUkDUQtlwrfbU+p6ZrKwHwnVtZASgIBwAKwgGAgnAAoCAcACgIBwAKwgGAgnAAoCAcACgIBwAKwgGAgnAAoCAcACgIBwAKwgGAgnAAoCAcACgIBwAKwgGAgnAAoCAcACgIBwAKwgGAgnAAoCAcACgIBwAKwgGAgnAAoCAcACj8D1koEMigaJ3wAAAAAElFTkSuQmCC)"
      ],
      "metadata": {
        "id": "eH15XXscqXCH"
      }
    },
    {
      "cell_type": "markdown",
      "source": [
        "Зачастую данные в разных таблицах могут быть связаны, то есть иметь связь (relation), поэтому эти базы данных называются реляционные (relational). В примере снизу данные из 1ой строки связаны с данными из 1ой, 2ой и 5ой строк."
      ],
      "metadata": {
        "id": "hBv-NtsTqXqN"
      }
    },
    {
      "cell_type": "markdown",
      "source": [
        "![image.png](data:image/png;base64,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)"
      ],
      "metadata": {
        "id": "bbnqX5KJw162"
      }
    },
    {
      "cell_type": "markdown",
      "source": [
        "## Полезные команды в SQL"
      ],
      "metadata": {
        "id": "3Qdj56F4w7_O"
      }
    },
    {
      "cell_type": "markdown",
      "source": [
        "* SELECT *FROM table1 - получение всех данных из table1"
      ],
      "metadata": {
        "id": "GPsURvc1xXRW"
      }
    },
    {
      "cell_type": "markdown",
      "source": [
        "# NoSQL Databases (нереляционные базы данных)"
      ],
      "metadata": {
        "id": "LCCRvDJWlPRy"
      }
    },
    {
      "cell_type": "markdown",
      "source": [
        "NoSQL Databases имеют отличную структуру от SQL Databases. Здесь можно сделать более сложную структуру."
      ],
      "metadata": {
        "id": "bumPv2pa0T25"
      }
    },
    {
      "cell_type": "markdown",
      "source": [
        "![image.png](data:image/png;base64,iVBORw0KGgoAAAANSUhEUgAAA7YAAAIkCAYAAAAqI7dkAAAgAElEQVR4nO3d647bOBIG0HYw7//K3h9ZTxyPbOvCS1XxHCDA7qTTlmiK5CdS1O1+v99/AAAAIKlfsw8AAAAArhBsAQAASE2wBQAAIDXBFgAAgNQEWwAAAFITbAEAAEjtn9kHAPRzu92a/B5vBQMAIDLBFopqFWr3/K4Kwff5HCucDwDASixFhoJahtqInwcAAM/M2EIxWyHzygzk3tD6+nNmPQEAGEWwhUJah9pv//5T6LW0l9Zut5u6BABsshQZipixHPh+v+8KGpYqc9WjDqlLAMAWM7ZQQI+Z2iOeP+td8DDbBgBAL4It0NSnkGt5Mmfd7/e/Zm3Vnzq0C20pT2BVliJDMXuXB48Q5TgAAKjNjC3Q1fNM2zOzbox25flcdRUAYhNsSeXswNSgdK5H+W8tTfbdMMLVTafUVQCITbAlBTuh1rA1eysw0MKINkJdBYC4BFvCajlQff1dBqfzvAu3j7+DPUYtK3YjhmxstAasSrAlpE+D1r2d9KffUWnXyIyz2e+eu4VorDIAgBwEW9I4OpB891znK4PUOQQGemldh9yIAYD4BFvCuzpIff33lXbozb7EWrjlrNF15LWuqqcAEIv32BJO72XC797zervdUs/KZB1kZz1u1qOuAkBcgi2hjAyW7wIu4/ke2OO5nkS4CRXhGACA3wRblre1VNmAdS7lT1RuwgBATIItYY0cQL5bmgzwiXaCiKKtbgAYQbD9+TNDp/HnlboxjpkwstizIR0AMJZdkQlj9uDw2+uBtv67MAZr8gogAIjl9Ixt1ZmsaueTRaRyP7KpVMVrIArlCgDAXpYibzCgni/CTOgj4O4JujPqTMV6GuF7h708xwgAcSwfbA1G4okabr4F3ZGrGLY+o2JdrnhOACO48QKsZvlg+45OgG+iBvDslCsAAEcJtnDBkedxgdrcEAWAeU4F26qdt4DCWUeexwXqcL23VXV8AUB/ZmyB0Ax0yUR9Pc7NgX48Zwus5FSw1QnRk86X1zZGnSAyfSIAzPfP7AOIxOB5nvv9rvwB+Lndbm4WALsdGT9qW2oTbAnJwAY3O2AdrndW9a3eGwu9d6bNML6srckzthU7I5V+PGUOAPDH7XYrOc6+6kqZPMpUudZzasa2SkWoch5VuavGLOoejPc8a+saZK8rY7lMdezTeWY6j16+lYEx/xrsikwoW5sGaYw+s+tlGwYGXOE6JKrKdfPq+TzP3EUYb3h14Dl7ykqZrqHZM7burgIArRhX8EmvEPr4vRHqXuWbErNE+F7px+ZRhPNodDTi770u2QOo4HUTKeGWvY7Wk2995/PfR6iDEY4BohNsAaAxgew8OyTHcfR7mFXnz3zu1r95d76u5//aUzeUGaMdfsb29Q5WxWUSLsR4qtQtoC59Rx/a/znOvkols0/PYUZ4BjeKveWgvBht2c2j3l1sBiZxbG0kxR/qKsSmzTpP+9bWnkmIVpsoVQiAszYail5uZ77brQ26WtSRihNrXNc82Kpc9KR+faeMWEXEuu6GHBl9q6evu/Xu2b23at1vfV7Z24y99QFGaBJsVWJ6efcMTLaGH2hDfwNt7J052/sqlXefQV3vvvcZIVdd4+en01JklYuWdJjHKRuYJ/sMDGs7O/tmtu68rTYjUruxdTx7v+ues7nqG6+aBVuVi57eNYiRGv7ZXIMQh+txnlbP8K2oRb1V99uJWoejfsdRy4txum0epXLRg3AL2DQErvNs5DG9yynqdxC9jbVChmdNg23EC/KI7Me/Ct8TAM/M0n438oaQm0/nRQ9qEcdgEY+JOf7p+cu90Jpe7vf7X439qnXtuRyidX6wutfrc8U2asuK70d9eD6PlerD47wzn/PMazhK+c3+/L20t+tqHmwFDkZ5rWsA0IO+5rgKffSsc6hQdlt6npP8wc9Pp2dsVSRmqNgJMI/6RGvqVF+9nhn1vZ0XfVltZFt12JL7z9Q3ui5FfnDXhF7coat7Z3cGZZlT5Os+U50atUx27++OsGw3y3cXmX66j2zlePZ1QUdlanNpr1uwVbGYJVtjT1zqUlxZ+5hedepqWajn/7VVplfLKWOdbUG4Pe/TRlxZynFUqH332RnKiDa6ve7nVbTGXCWv490rgKLVOXLQNtBazzqlrRtH29BWxno7+5iz1cFZ7ZMlyevqGmxVLEZ519irc7CGqtf68zN1W39afs7W565q5gxTVVnLMNpxRx9bf2ufRpVn9HKij+7P2GZdLkY+j0Ys61Id4Jjq/cvRczvazlUuu5b0H+1UWJIc4ZgjluO39mT28f38xHltEv0M2TwKRtoa7EZo9AH2OhI6z7Ztn57dW5my6CvSDam9G5RFOuZ3Ro1zzpTDrPGXCY/1DAm2XlLPaO/C7ePvVuBagzpGXsvaDUaa1VdFD6rfRB7nzP78V5/K6vH31DBs86hn2RsTcmj5HkPWpb1iNM93/jZjRlnZk8mn/UV6XDN7lhtHvWY+HZt+vo4pwRZGWmEDgagdSVbKE9AO9NO6bI/265VuYHwLbK1fBfb4vK0/GYy+GcBYw4LtCuGCuFaof1k6lYwq1hfGOjv76LqGfc6201WusVEzkhX6w943A5hn6OZRGR6+Zx1RnkUhJu0VQFzfnptc1bsNk67+zopl+6ms7FOS09SlyLMvEhV2Le/u0M2uhy2p05BDpXYHZtHnvads9vPsbR3Dg+3WklAVh5HehdtvLxUHuMJAExjBWOa4T5MfyjIP77FlSd+W6liCAjDf6+sCH/8NHma9KihSPRS82nm37Drad862KUuRt+6KuCiZ4VMjpU4CAFGZTezj2+ytMo9r6ozt610Rd0OY4dNupdnrZPbjB8bTbsB/zRqzrr7b80xVN82qbPp7bF14RFJxc6nsxw+szTihnqz90rt9YlrP4p39ndneKZuB8sxlerB9lbWxow7LTwDobdX+ZNXz3itDmG3xHRpT0UOIzaMsSSaaT8tP1M81+d6Bq1Zf2rjyuX/zqWwi9j2tvkt9Ky2FCLY/Pxr7bzxjMV7lZ28ziNAeaJeAnlbpS961oxnPvccxZ+hnVu0Pt845Y71dRZhgu6IRDcQqnWZvWw26sgWOONPma2fm6VX2KwWEVc6zh4jXfeu6G+0c1df8BNsFGBi18S7cPv4usmx14LWcMx07XNU7+Dz/btfW37YejXr9+7NWGzRXmqUdLXIZRT62M45cl9XOvaKwwTbbQPyo1Tq4Kj69uPvx97SlTKlIvc7pzE2BVfr7Peep3m9TLv15pG8NoYLtCptIfbqDeXTjgCMXqeDVzreNpR4/A9BCxb6wgj3tfbVQe+Z81F1GaXG9qa+5hQq2K3pcQGd2w9vzb+nj08ZSUQndME+EduJbPxPhGCM4eiP5zOtZMt7EVz+ISJjlWbhgu2LnenXHtYwhq5KtGwwzQ+SK1xBksqddaHUdV2wLZgTB189baeZypXMlB3WSd8IF25+fvzv0LHcyz/g2E3v2d367s1y1PAGiafmux5+fdZ/rzDrL+fOz/Z1lvgGZpdxZk/q5tpDBtqK9HViLC1K4nSPSK4G+PQfs+4f+erz/8GoYcu230aqvBq5zLfGQIthmHIjvHXz0eu1C5rvBmUUKt8/UB9jWqw1u+dyXMPubdmyOKvWHmtRPnv2afQDvtHieJbIRF+JKOzVGErGR9X3Df7W+Lm63279/Xt3v99Ntw5l/9/i8s5/57jwiiX58AIyVYsa2kpkbPbnbPU7058GiHQ+M1vrZ108yL1t9tBW9ZrZby3KcM+j/qcK1zTthZ2x/fmrO2r67o+8irWf2d/r6+RWvJzjqXft75nodFWpHeXeskdqKTOUJwFjhZ2zNMlJFxFnSqMcEPZzZzGm110p4P3pdxlNAdeGD7auIA/Gzep+HDmy+aEuSDWxYzbf63nKTp0q0FQBkkyLYVuxgKw6EiO0RqiNdT9+Ow3UC87j+6vGdApWlCLavjr6oPpJZx5yxrKqYGST3fPbsWeR3Ih4T61IfY4pykw6A+dIE26jvB4VM3s3aupaoSr2uZ88NO987wHpC74oMXBd1gDfi2UcAANaQZsb258dujdBShlnbiMcEzKddAOCVGVtYWIZ320Y8JgAAYhFsgb9EDJIRjwkAgDgE28Fut5tBOqHM3Kn7yGe7bgAAeCd9sM062O0dcLOWC/1t1Y0MS5IBAOCdlMG20qYRAgQjnLlmItbNiMcEAMB8KYPtq2yD3dHBvNKNgIwi1s89s7aPnxu5smDP8mTL+QEAeJU22GYKa1vLPB8D+EznwXWRvu+94fbxs63D5KfftzfgjiZUAwDElOo9tlk9gmz0d4ZS22sd/Pn5Ew731sUjYfjI73j3e769u3rWddSiHAAAaCftjO3Pz98DSbMof3wKAYwVrcw/zcg+/8yRFQWPWcznP59+9shx7fn73rOoR0K/GV0AgDlu94PTDK8D4Nm2ntE7++9bn8/W7756vEc+85sI31910a6Xn5/vdeTds7ajfAuxZ/9tK2fKYuR3v9pqkIjXGAAwnqXIkx1dCtqKAWB/UWfuvq102ApGV8JmS3uWJj//XM9jePfZR//uqq3vc6Vwu8p5AgCfpQ+2W88NRvS8YdTeMHHmM569+ywDwf56z8z3Fv2aivgYwuy2KEo5AADMkD7YZtIz3O4Z1GYLV1llChijAuLoutdjxjLq9+rmFQBAwWAbfQnec7h9/P+tvz/6O1+9hufIZVLF2Y2Rqhp13j1XQTz/rtYivs4IACCr9JtHPZxd+jnifL4FniuBaO/gN9J31dLs+hhhMyN++/Ze3F6/OyL1DgBYTbkZ24dIM7efZpQ+eXcO2QbZo4wMuQJtPJ9uFEVqD87IfOwAACNcDrazdvV9tRUeIw1mz24sczXERjn/0Xp99z1nBWljxNLkkTIeMwDAaJeWIj+LMvg6upHKjKWsI2Zco3wfI8yewV6prLPJvjs1AAD7/Jp9AK1lWLr7vHlUpt8d1eOcZ7wLeLWyzsb3AwCwhpLP2EZflvwQ7Xgq+LYhV+vPIT7fFQBAfU2CbcSB455wG20ml3Yi1kkAAKCPw0uRMwWGT8uShVoAAIAayj1je1amwA4AAMAf5YPt1gY/dkoFAACoo3ywBQAAoLbLwTbLbGeW4wQAAOAYM7YAAACktlSw3Zq1NZMLAACQW5P32GYiyAIAANSy1IwtAAAA9Qi2AAAApHZqKbLlvAAAAERhxhYAAIDUBFsAAABSE2wBAABITbAFAAAgNcEWAACA1ARbAAAAUhNsAQAASE2wBQAAIDXBFgAAgNQEWwAAAFITbAEAAEhNsAUAACA1wRYAAIDUBFsAAABSE2wBAABITbAFAAAgNcEWAACA1ARbAAAAUhNsAQAASE2wBQAAIDXBFgAAgNT+mX0AAADAe7fbbcjn3O/3IZ9zxqgy+CRy+SDYAgDAYRGCVmsVz4l1WIoMAAAHCIAQjxlbAAD4YHaQHbUEdvZ5fjNjKXD0MuEPwRYAAJ4cCTOVnrusdC6sR7AFAGAZLWfgBEGIQ7AFAKAkIRbWIdgCAJBWj2cghVjIR7AFACCFFiFWaIWaBFsAAMK6EmaFWFiHYAsAQDh7A63wyii32019C0ywBQBguLMzsYIFI93vd++yTUKwBQCaMQCkB2EW+EawBQAgHGEWOEKwBQBgOMGVjDxnG5dgCwB0YfAHVOA52xx+zT4AAAAAuEKwBQAAIDXBFgAAgNQEWwAAAFITbAEAAEhNsAUAACA1wRYAaOb5FT9ejwFUoW2Lz3tsAQZ57Qi94xOgj+f2VlsLaxBsARpzJxcAYKwmwdYgDgB4uN/v/44Nbrdb9xmzb+MQM3YA9XnGFgAAgNQsRQZo7NPskBUu0I7riT1GrBoA5msSbDUWAMCz3suR34VaYxJ+fv6uf8AaLgVbO3wCAKMJtRxl1rYWbQBbLEUGAMKzQRRHmbWtx/fJJzaPAphEB011z2HzSn3/9G/v97tQCwvQZ/JNsxlbnQrAd2YQoJ3oYw+PbEEbW/3m43rSp/JgKfJAR5/veL5QdYbQl+d1IJ5Pg1lgXdoBtliKPMjzzpBALJ+uy9vt9u+f0Z8NAPxNqOWdsDO2lZfv7Jm5NdiFMWZca5YjwzmVxgJHVB4TwR7qPHuEnLGtOOBzQUI875Y5ul6hnVYbSGW/LrMfP0B0zYJtqzBaMdRuWeU8IYvXQCvgwlz6SeAb7QTPLi1Fbr2czlKbbcrhHJtvcZUOE4hGfwbbXBuEecZ2tQGki6+v1eoTQGX6THjv23ueYRWXg+3zrO3R19k8mKkFotMuATDTmZv2Z8fmkFHzGdsr72qFHjToALkYG5B90uNbHR55PsItqwizFPnBhQdEYGANMRgXxHCmTTz63UVsd4/s13Hk+HuEzVY7kENWTXZFbnVh6ryACAwIoK0VB9xVzvN2uw05lwzl9ekYzy4TbuV1DG1MzYrCzdgCzPTu3bbAGBkCzlEZ25BR30OkJbt7bM20vjuHrWN//dkWM7d7/r3lyKxAsAX4OTYwAajoaMi82m5maHe/vdry6Dm0flXm0X1tIpUttDY12Fa8KwvUYQAAc/W6BrPNEvZ2pjyurm7JEGofjoTRSMffOkRDdNOCrQsNiCzS4ARW1XqGae/YY4VHEq6E+x6hdkb5HtkYao/R57Dn86qG24rnxHVhliJX6zCA2KIMrIAcVlnGeWbn32jl8i709A5Dj98frTyqEWp5J0Sw1QDMc7Rx8F1RQYaBGVTzPHMUJSQe3a259QzfDFeWALdoO7O/n/YqoeyaTEvYGS9EsJ3VwV1pXLJfQGfPPcpgBM6KMKioMDiGat5di59m/7Jdv7NDbVRXzuPxb8/2LVXKcITKdZA2pgXb7Gv+My83uVruGTtzyNzewEp6jg/O9F3ZxyvfzAy1vcYS72bijV1qjeGqnAfthJixnaFVJ1WlgTjzTA1k8W5Q9vzfq1zLwGdnlsIeXbKcwZV+/0xbWaXcWmoxU7z3Z7OX/+pL2NlnyWB75c7jlSW8Ee0977ONYsbt8anj27K7Cp09MMZKbUXrUNvz91Cb5ccc8Wv2AYx29QK53++7X1D+6XfM0nKmetRnwRlRN5iwLA6YYW+//W6ctDX+WcXR8YzxTxvKkaOWC7avzjbSqzXuGnUy+TQwA+Y5s6S3dX9yZhffFWaNRt4MrFZ2W7bKc+bYKNvNCf04Z4RbijzyObfVL47ey6/PfBa0FqnuueED+0R5TCDqyo8ensv8yPmtsD/Bnvq49TMR6nAV1esYbYQLtiruOBW2pq/aaViuWp/vFWI4GswqXLvvzuHsO2l7hNuMgfnIDZls5zaSjaI4K0ywHfH6nKwhKErjbtn2b59C55k6Vq18IlCmwBWtlx5H6cdb6jmm6hmYI6h4Tr0oK44IE2whitGzpd86bnd/Adraet1Xb89t/exVOWeXHL9zZqY32yuUjrxFYvYxVHKlbqxYXqubGmyjPEOzqgoX/LtzWLFeVb2zDdTy3PfvbbeO/Nzz5+w9jm+qtq0z+8o9n1213IE+ps/Yjgq3KwadWVYu61Z3v88asaQfYIZWq1uOuvoYzuiZ4Xd6jbeOzGSuPD4A+psebF+NnHW6EgKONM4rNeQRHvivWN5HB3Nmb4Hs3u0yuxUYW37G479X1CJcXimbb59ftdw5Rj3grHDBtpdWdwrNLhNNy0EeQCRnX6ESaZfjT+OPGQP42aFh9ucDdf2afQA/P212lt37OVsN6qyXxO/R8mXUo48/QufV+8XyI8r07IYVgi5QwdGQGqHvebV1XFeP83a7/fWHfZQZ1BV2xnb0Usozz+54roQz1AVgdWc2kPr0u7Jocaz6kPOUHdQWJth+W24067UrkZYPteY5zHrcRAEq0lcB8E2YYPvz83lQ/i6EnQm/n5aSjth+/kigbLnL7ZlnlQwm2hq9SYmbF9+9zhw9/htABtqrc5Qb1BMq2B7Vc0fETz/fwqcBdM9ZNzN67Z15v+JDr2eAfccAdby260LZfsqKK1x3uYQLtt+WAvd6B1vGmcuzF9us4KNx+NvI11opbyAy7dR3ygfgs3DB9qzeu9+O9ho+WwdRHeQ1R28OXHm/75kB31b98Z2/Z5YbxnPdAe9oGzgjVbDtWclnvMfu22dm7/QzH/tRgiMAwDkrjRnpJ3ywjfZi8yt6HW+2cqhqb7j1fQH8lxuEEJ8ASmThg+2WlTq+iuca6f3EV+yZUT/bAWSfrQfYQ1sHOcy4TiuOgekrRbBVsfOI+F1deb71m97PQjNOxLoLcJb+iGz0w1yVItjCEVdmAHoPBEY22mZCAGrTxjODAEpUgi0ljQx1kV8XpfMBqEWYZRZjCqITbOGNqw347H8PQA1nwqw+BFiNYEtZZ1+xdPazAOCKowFW3wPwh2DLMgwAAJipxTJifRnANsGW0gwAABit9XOw+jKA7wRboKQRG6wYbALPrrY72hSA85oEWzv0AQArOjIGElwB+mk+Y6vRBgD2eA2FlW6UGw8BjHU52FbqhIA6DCqB0bQ7APM0nbHVoAMAqzH+AZjP5lEAwBSv7xsXEAE469fsAwAA1vUcZj3eBMBZZmyBwww+9zH7BAAwhmALfCXIAgCre3584na7uYEdjGALCK4AAKQm2MJCWgVYdygBAIikabA16wM1CbIAAER2KdgKslCD4ArM5Lk1AK6yFBkWY8AIAEA1zYKtwTIAAAAz/Jp9AAAAAHCFYAsAAEBqgi3AADbbA4D8nh+/1LfHItgCDGZPAgCAtgRbAAAAUhNsAQAASE2wBQAAILVmwdbD0wAAQHU2kIrpnyv/+H6/+zIBAAo5O7azMR4w06VgCwBQQaYb9VED5FYZRj1WoB7BFgAoKVNYrWr2dyBYwzoEW1jE8+BCRw/AHkf6i9khFma53W7GVgEItokc7TBcYABk8bxvx6xBYuR+M0NofC2/DMcMZ9lrKB7BNjAXC9WMrtORB6nAWJXagyyzQ7OOMcP4ySoqaK9MsK3QQGRoiEdZpSyy1tU9VvkOgXgqjAlemR1ilKv1rMo1Rz5lgm02vbbS1+kxk/oHMEaWWdsZIixrj0xfTVUlg22lC1ZjTGRnrrXedbrS9Q8rE0j+y6wtZ6gz/biJEkvJYJuZC+K3RzlUXE4WoYMZcQxVvi9gHMHtmF4DaYP1tr7V6ah1fu/3HvX4WY9gO4lOgorUayCCvcHsdUCeoQ0T/vcRzt/rWRbKmZlKBlsXFYzjegOi2wo2wuFxFVdRrcL3xQpKBlvgMx0cQA1mI+Pbs2Jg1HeovlCZYAuUpQOHdZ1Zsvvt56O0JxGWI59dxj1r1ld/8GNpNuX9mn0AtPXcUM3u9Ea53W7//gGdNTBLpf6owngiU3/Qs4yr1MmoKlwrVQi2AAAw2KznvjMFfjjCUmTSsHSGM9Qb4AjtxT4ty2lvoKv43URYVg5VmLEtLntjWbEToz/1BuA6Syzn6rG0Xf9IZWZsC1r97t/Rc3/XcWv8Aer4tnpjdJv/qa86eixWpgCYsQUAijoS9rLdEI78Xt4rM40rBvRKM+PZj5/clpuxHTkj5w4qANDL6wqtyuOOque115HA+KmsetSR1VcKEsdywXYU7wqbR3kDsGWFPrn1Ob4LLVv/rcXn9vq9K1vpBghrE2wH0IDM8e3u4dnvpNfv7cmzw8Cqss0mHW2jo5/f1TGQPgvYS7DtxN2xdp7LUjkC0NqVG52tZ0fP/rvI4fYs/f0fV8uidx0xViMCm0cBABz0PIiPYNYGRPf7/d8/W8dy9ngEI+CopWdse99RqnoHdba939uITvHxGb5nvnE3G2p5XNOtruVqbYIxUFu9+o0931G1ukldywXbrSXCn36WGHp1kC2ePa3QcbcuB9cOkMne0PDazrXqN1ZqM/eeq8DVX4XxCzyzFBkAWI5QdM7z0uOWs9Wrfx9bS8l7lolQS0XLzdj+/MRdHpNxt93VZb3r/qmuWcUArGjkqpN3q8dafm6ERx7O7PD889M2dHkM5I9P499Wz0Ura2ZaMti+OrMsZsbFqpEAgHaOvKN162da98lXb3BHvXF/lLHOb6/f5adQGvFGu3Ero11eijxrF77ZWp/r3t93u92WKuc9Wi+JunIc8Mmq7SXM1uvaO/K7Hv23a5/o1FGyMmMbwFYDYgA835E7jZFD7dZKg09LjiKfC0BrPTcn/LS01q76RNKqHlZZNUBOzYNt5WUHVy/Ws6+p0UjMM2IDBwBi+dbmH1lldfWzjvKc42eRy2Truztz47nl+UUtK9jSJNhmD15HOp4RG0q8yly22eypy1t32SN3lAAcc7ZNzz4eqsr3cpwxDRl53c8BZ56PudowfFumzDVbz+eevSOq0wSI69MjPqNmuCLsBwGfqKNk5hnbZDQ2Y5wt56PhdqWlzjOW5AH0sGd3Yq5Zde+H1+XIz1qPGbZmsq/cpH+36nCl74+5BNufmA2mmdocLG8CgL5WugncwpHy6jGOMTZilpJLkTNfTF4FkI+OFiA/bXl8rWYTM42zRtRLdZ8qyszYVr87pNGJ7cj3k3l51dlj33qeLeLL5AEqqLAzcvVx3V6jvr+en5G1DpJPs2BboRGNSDnS09agYcQyeKEWmG1rrNKqLcp8AzOSVd/1eybUz3gV0LfP8fYIRuu2FHl2IzT788963qX3SgOQdcnNJxXPqbo9S+t1dAC8o78H9ir1jK0BMgDk1vMm5qrjhKvlWPHGcpXziGyV1yJaoRFH02dsPQ8BuWwt8xq5TAlgtFUenaowJmv92EqFMjkiwmv2LElmpOYzthXv6o2kzD5Tv/Ib9fJ3dQWYQXvTxohyrPxd7T23GWVQudyZq9RS5JFclGt4PCP6/IdzPgVaZQtUULkdm32zsNUNUbOFUJdgG0CvZxBmd0JVKctztm4SvAZaZQu8ytIuZDnOVnqe78id81f43l43Jh0d7md8Jmvq8h7bDM+vRDymZyNeuYJuVp8AAAwrSURBVAIAEa32LCRjZahfV8fSn34++rnDWV2CbVVng+Wef5ehkV2RWe8xRty0iXqTDagnww3+M2aMVfQPbRjDsALBNpBVX0RODVuDgtkDBTeMANrqHdpHtdmV+4e95zW7j4bWBNuANDT08m4QsrfOZa+bK9yVB47RLuxTNQQ+qAeQn82joLjVO+rVzx+yyvYoyKyNeTgv03eV4Ro4otr5EEO5YJutI4TRXBfA6jIFmpWM3A15z+fPdmVvlz27II9+laHrjt7KBVv+JujH4zsZL1KZRzoWgNWtEra+naf+iAo8YwsLqLxJBkBE7zZZmj0r2VLvY7/Sb2Uu13euPgf8+m9fy/fx/yuWHWsoH2yfL1oXKvTxafDhugOYz+ZI70V+PVPPG9PvfreAS1ZDliKvMlP0/KzCyGcWvrH0MZ6VvpPq5wf0k62t/DQGmDEu6BlMhJ45WtchG55RSbcZW0sff4t25+/nJ+Yxwapcj7Au1/7flMe2XmNq43SqsXkUcNm3HRgjdJ6RZn4M3mBt2WfJMh87v83uB6GHks/Ymi2G+VyHQGs9Vzi02JOjcuBreW72P5lL30xVJYMtwDeWAEMOvW6Sfbr+W7YPQgTRPF9T+sHrIm8+thrBFhZgYPVbpFlkHSHUEqVtya5lOVZvV1uUlXpLJUs8Y5v9WRbma93w60gAYom4N8AKnsu5R197ZjfqiN/9uz0sgD+GzdiakSCrT+94y+D1WF2HQGY9xxOvqzp6vFqF/uW8JVO/vYLK14LMM0/XYBtp2d8sKnZu1ervyPpYrex6sBwZ9sk2nnAtX3e1DDPVl7PUsziytVFVLbEUeQSVGQDyu7rcU9jYp3c5WboL67F5VCca0hp6fo/VboZ8Oh/XA5CNdqu/UWX87XOq9cewqqHB1lI7AOAq4wlaUpeghu5LkTUWwPPOlO6M/+25jVQ28J7xBACfeMa2ER0uqzvyPJMABwBAS4JtJ2amWJkbPQAAjCTYNmQwP4almzk8z+DamXI/dRr2ca0A8Gx4sNURwXqsYPhM6Id9XCsAvDMk2OqIYF2RAu3zsWiXAADq8B5bKG5GgPsWZoXKz7zKBAByud/v/45/9ONzeMZ2Aa8hY4ULzatlYpr5rG30urDCdQmtRb+uARhn2Ixt5bsYnzrWI53uiDKpVO57GfjEEKnuRToW4Jjn8QQAPFiKDDQnOJ5T+QYgAEBPgm1xVe9qG/ADAAAPgm0DQlY8vhMAAFiHYAs0UXV1AAAA8Qm2xZm55Iiz73kVaoGRPI8OwCvBFvj5+flvOBVWAQD2c9NtriWCrYoF47jWAAAY7desD+49G2RwDWPd73fXHQAAUwydsfVSdYhLKAUAIKtpM7Y/P57h6+12uyljAACgvOHB9nVWqFfwWjnQvQbalcsCgPr0cwBM2TxqxpJknR4A1OHxJgCeLbEr8so8NwkAAFQ37Rnb58Dljmt7dqgFAABWUXbGVqgDAABYw9RdkQEAAOAqwRYAAIDUBFsAAABSE2wBAABITbAFAFLyhgUAHqYGWx0SANCKsQTAuszYAgAAkJpgCwCk5b31APz8CLYAAAAkFyrYejYGADjKnh0ATA+2lhABAC0JtwDrmR5sAQAA4ArBFgBIzwowYLbn1SLapPHCBVvLhwAAADgiRLB1RwMAAICzQgRbAAAAOEuwBQAAuMDjlPMJtgBACd5nC0TgMcs5BFsAAABSE2wBgJLM2gKsI2Sw1REBAGdYAgiwpjDBVkcEAADAGWGCLQAAAJwh2AIAZXm8CWANgi1AIF5XAgBwnGALAJRi3w6A9Qi2AEA5Vj8ArEWwBQAAIDXBFgAoz6wtQG2hgq1lQwBAK561BVhHqGALAAAARwm2AAAApCbYAgAAkFq4YOs5WwAAAI4IF2wBAADgCMEWAACA1ARbAAAAUhNsAQAASE2wBQAAILWQwdbOyAAAAOwVMtgCAADAXoItAAAAqQm2AAAApBY22HrOFgAAgD3CBlsAgKvcKAdYg2ALAABAaoItAAAAqQm2AAAApBY62HouBgC4yngCoL7QwRYAAAC+EWwBAABITbAFAJZiOTJAPYItAFDe83O2ANQj2AIAyzFrC1CLYAsALMGsLUBdgi0AAACpCbYAAACkJtgCAACQmmALAABAaoItAAAAqQm2AAAApCbYAgAAkJpgCwAAQGqCLQAAAKkJtgDB3O/3f//37XabeCQAADkItgAAAKQm2AIAAJCaYAsAAEBqgi1AcJ6zBQD4TLAFCOh5AykAAD4TbAEAAEhNsAUAACA1wRYAAIDUBFuAoJ6fs7WBFADAe4ItAAAAqQm2AAAApCbYAgAAkJpgCwAAQGqCLUBgNpACAPhOsAUAACA1wRYAAOACK6zmE2wBgCU8DzafB6EA5CfYAgAAkJpgCwCUZ2kg0JvlyHMJtgDAUixDBqhHsAUAAGjMrO1Ygi0AAEADVoTMI9gCAACQmmALAJRmOSBAfYItALAMywQBahJsAYCyzNYCrEGwBQCWYLYWoC7BFgAAgNQEWwAAAFITbAEAAEhNsAUAAGjk+Xl+G9iNI9gCAACQmmALEJw7vwCQl757DMEWAACgIa8XGy98sDVTAQCcYdwAsI7wwfaVTgoAAIjOBN1Y6YItAMBRlgUCswm3faUItjojAAAA3kkRbAEAALIxQTeOYAsAAEBqgi0AAACpCbYAAACkJtgCAACQmmALAJTkHZIA6xBsAQAABnCTrR/BFgAAoBOv/BlDsAUAACA1wRYgGcuY4BzXDkBdgi1AApYxwTmuHYA1CLYACZl5gnNcOwA1CbYASZh5AgDYJtgCJGXmCQDgN8EWIBGztnDdlZtCt9vNTSWAgARbgMQMsOGcM9eO6w1oQVvSR8pgqzIAKzNrCwC56Lv7SxNsXyuDcAvwm/YQAHLRd7eXJtgC8IebfTDe83XnmgOOMmvbV6pgqzIAAADwKlWwBeAPN/sAAH4TbAGA0twEAqhPsAUAACA1wRYAAIDUBFsAgJ3sjAy0og1pS7AFAMrznC1Abf/MPgAAgBGEW2C2+/3+10zt7XbTNjUi2AIAnGRQCvVZMpyDYAsAAHQjGDJC+GD7fCG4IwoARNNz0G7sQzZCLLOED7YAAJG8PiPX0+NzBFyiWiHIuv5ySBVsV7hwAID4Rr/2xxioPWHlnDN1UVkzQqpgCwAQTY9BuyDb36cyFsR+E2LJ5HYPXvveXVDBDxtgGHsRQG1CbiwV29krdaxieZBT+GALwGevAxLNOsB3PW4YZGh/W5x3hvNkPZYiw/+5Ix6PjhOAXj71MWfHBNXGEvphMjFjy5KqdTwr04T9ZjkywBgVxxD6DSowY0tIFTsN+vAcPgAj9ZjpHUn/SFWCLSFE6Ag09PFcqReeOwVgNH0NzGMp8g63201D1UCE8PrMd1qDnRz/sBwZAFiVGdsvHgNF4fYcoYPe3tWTPXXv28+ogwAAOQi2H0SbYczgbJkJELT2WqfO1M1P/0adBQCIw1LkDVuDWcX03t7AoAyJpuXNqyj123JkAGBFZmxfmKX9wwu8qe5b/TxyDQiUAADzCLZPzNQKs/Ds7PO7dmQGABhLsP2/dwNVM7j7GLizkqPP77ppBgDQl2DLWwbesM+Zjare/YzrDgDgOJtH/Z+Z2d9UB2hv9GuvPO8LAKzGjO3/GfwBvWy1L3vDrud1AQC+E2wBJjgbdq0uAQD4L8EWIIgzz+oCACDYAoR1ZQnzu38PAFCRYAuQiLAKAPBfv2YfAAAAAFwh2AIAAJCaYAsAAEBqgi0AAACpCbYAAACkJtgCAACQmmALAABAaoItAAAAqQm2AAAApCbYAgAAkJpgCwAAQGqCLQAAAKkJtgAAAKQm2AIAAJCaYAsAAEBqgi0AAACpCbYAAACkJtgCAACQmmALAABAaoItAAAAqQm2AAAApCbYAgAAkJpgCwAAQGqCLQAAAKkJtgAAAKQm2AIAAJCaYAsAAEBqgi0AAACpCbYAAACkJtgCAACQmmALAABAaoItAAAAqQm2AAAApCbYAgAAkJpgCwAAQGqCLQAAAKkJtgAAAKQm2AIAAJCaYAsAAEBqgi0AAACpCbYAAACkJtgCAACQmmALAABAaoItAAAAqQm2AAAApCbYAgAAkJpgCwAAQGqCLQAAAKkJtgAAAKT2P9y/XK2YdMOrAAAAAElFTkSuQmCC)"
      ],
      "metadata": {
        "id": "nZfNIUa4xko0"
      }
    },
    {
      "cell_type": "markdown",
      "source": [],
      "metadata": {
        "id": "mDUu5OcM_E6O"
      }
    },
    {
      "cell_type": "markdown",
      "source": [],
      "metadata": {
        "id": "_ADebQkS0oMI"
      }
    },
    {
      "cell_type": "markdown",
      "source": [
        "## MongoDB"
      ],
      "metadata": {
        "id": "Hk30AqfJ0nb2"
      }
    },
    {
      "cell_type": "markdown",
      "source": [
        "Классное видео от Ulbi по MongoDB\n",
        "\n",
        "https://www.youtube.com/watch?v=LNvmI8a9jwY"
      ],
      "metadata": {
        "id": "Puth5FOiSlHZ"
      }
    },
    {
      "cell_type": "markdown",
      "source": [
        "Видео на Youtube от  Webdev - https://www.youtube.com/watch?v=pGkQ5ApKIUY"
      ],
      "metadata": {
        "id": "whs0pHkX8jJr"
      }
    },
    {
      "cell_type": "markdown",
      "source": [
        "Основные особенности:\n",
        "\n",
        "*   Для хранения данных используетя json подобный формат\n",
        "*   Не требует описания схем таблиц\n",
        "*   Данные хранятся в виде коллекций и документов\n",
        "*   База данных содержит коллекции, коллекции содержат документы, документы хранятся в json подобном формате\n",
        "* У документов в одной коллекции не обязательно должна быть строгая структура\n",
        "\n"
      ],
      "metadata": {
        "id": "c9E1IR3MYqjk"
      }
    },
    {
      "cell_type": "markdown",
      "source": [
        "### Theory"
      ],
      "metadata": {
        "id": "TiZ-XokU0pqg"
      }
    },
    {
      "cell_type": "markdown",
      "source": [
        "MongoDB - это документоориентированная система управления базой данных"
      ],
      "metadata": {
        "id": "zXVe3foQ0rOW"
      }
    },
    {
      "cell_type": "markdown",
      "source": [
        "### Установка"
      ],
      "metadata": {
        "id": "iCaAoqn2DbY-"
      }
    },
    {
      "cell_type": "markdown",
      "source": [
        "Установка с сайти https://www.mongodb.com/"
      ],
      "metadata": {
        "id": "U2gxNwbbDdQF"
      }
    },
    {
      "cell_type": "markdown",
      "source": [
        "###Структура MongoDB"
      ],
      "metadata": {
        "id": "7BKa_hcwYzjO"
      }
    },
    {
      "cell_type": "markdown",
      "source": [
        "База данных в MongoDB состоит из множетва коллецкий. Коллекции в свою очередь состоят из документов.\n",
        "\n",
        "Сами документы хранятся в json-подобном формате. Документ в MongoDB представляет из себя что-то похожее на объект. Данные внутри него будут записывать с помощью пары \"ключ\"-\"значение\".\n",
        "\n",
        "В документах не должна быть строгая структура, один документ может содержать некоторые поля, а другой нет."
      ],
      "metadata": {
        "id": "jPHyY0veEQZX"
      }
    },
    {
      "cell_type": "markdown",
      "source": [
        "![image.png](data:image/png;base64,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)\n",
        "\n"
      ],
      "metadata": {
        "id": "EuWDkAEmEOlz"
      }
    },
    {
      "cell_type": "markdown",
      "source": [],
      "metadata": {
        "id": "0sx649XE98kh"
      }
    },
    {
      "cell_type": "markdown",
      "source": [],
      "metadata": {
        "id": "IKgV9Zr6TYkI"
      }
    },
    {
      "cell_type": "markdown",
      "source": [
        "### Полезные команды"
      ],
      "metadata": {
        "id": "Qxyk3XXzWnJ8"
      }
    },
    {
      "cell_type": "markdown",
      "source": [
        "show databases - показывает базы данных\n",
        "use mongo - использовать базу данных в коллекции\n"
      ],
      "metadata": {
        "id": "06ddPbSeh3s8"
      }
    }
  ]
}