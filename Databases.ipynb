{
  "nbformat": 4,
  "nbformat_minor": 0,
  "metadata": {
    "colab": {
      "provenance": [],
      "toc_visible": true,
      "authorship_tag": "ABX9TyNFEaZBzprvEo4HIecidUsh",
      "include_colab_link": true
    },
    "kernelspec": {
      "name": "python3",
      "display_name": "Python 3"
    },
    "language_info": {
      "name": "python"
    }
  },
  "cells": [
    {
      "cell_type": "markdown",
      "metadata": {
        "id": "view-in-github",
        "colab_type": "text"
      },
      "source": [
        "<a href=\"https://colab.research.google.com/github/BISH0808/IT-interview-prep/blob/main/Databases.ipynb\" target=\"_parent\"><img src=\"https://colab.research.google.com/assets/colab-badge.svg\" alt=\"Open In Colab\"/></a>"
      ]
    },
    {
      "cell_type": "code",
      "source": [
        "!pip install wikipedia\n",
        "import wikipedia\n",
        "\n",
        "from IPython import display"
      ],
      "metadata": {
        "id": "q7RCA7_L99Sn",
        "outputId": "6b713acc-3763-48a0-bab9-198485ef3da8",
        "colab": {
          "base_uri": "https://localhost:8080/"
        }
      },
      "execution_count": 1,
      "outputs": [
        {
          "output_type": "stream",
          "name": "stdout",
          "text": [
            "Looking in indexes: https://pypi.org/simple, https://us-python.pkg.dev/colab-wheels/public/simple/\n",
            "Collecting wikipedia\n",
            "  Downloading wikipedia-1.4.0.tar.gz (27 kB)\n",
            "  Preparing metadata (setup.py) ... \u001b[?25l\u001b[?25hdone\n",
            "Requirement already satisfied: beautifulsoup4 in /usr/local/lib/python3.8/dist-packages (from wikipedia) (4.6.3)\n",
            "Requirement already satisfied: requests<3.0.0,>=2.0.0 in /usr/local/lib/python3.8/dist-packages (from wikipedia) (2.25.1)\n",
            "Requirement already satisfied: idna<3,>=2.5 in /usr/local/lib/python3.8/dist-packages (from requests<3.0.0,>=2.0.0->wikipedia) (2.10)\n",
            "Requirement already satisfied: urllib3<1.27,>=1.21.1 in /usr/local/lib/python3.8/dist-packages (from requests<3.0.0,>=2.0.0->wikipedia) (1.24.3)\n",
            "Requirement already satisfied: certifi>=2017.4.17 in /usr/local/lib/python3.8/dist-packages (from requests<3.0.0,>=2.0.0->wikipedia) (2022.12.7)\n",
            "Requirement already satisfied: chardet<5,>=3.0.2 in /usr/local/lib/python3.8/dist-packages (from requests<3.0.0,>=2.0.0->wikipedia) (4.0.0)\n",
            "Building wheels for collected packages: wikipedia\n",
            "  Building wheel for wikipedia (setup.py) ... \u001b[?25l\u001b[?25hdone\n",
            "  Created wheel for wikipedia: filename=wikipedia-1.4.0-py3-none-any.whl size=11695 sha256=d785a0d5b9d2285c524ed197be81fec829628d2568c335ee6ecf62f48bdf6897\n",
            "  Stored in directory: /root/.cache/pip/wheels/07/93/05/72c05349177dca2e0ba31a33ba4f7907606f7ddef303517c6a\n",
            "Successfully built wikipedia\n",
            "Installing collected packages: wikipedia\n",
            "Successfully installed wikipedia-1.4.0\n"
          ]
        }
      ]
    },
    {
      "cell_type": "markdown",
      "source": [
        "# Databases"
      ],
      "metadata": {
        "id": "2TLsOmu2y0o3"
      }
    },
    {
      "cell_type": "code",
      "source": [
        "wikipedia.summary(\"Database\")\n"
      ],
      "metadata": {
        "id": "VKqJIJ6m_RSJ",
        "outputId": "41332163-230a-4fc4-8bd9-07537a6d27fd",
        "colab": {
          "base_uri": "https://localhost:8080/",
          "height": 105
        }
      },
      "execution_count": 3,
      "outputs": [
        {
          "output_type": "execute_result",
          "data": {
            "text/plain": [
              "'In computing, a database is an organized collection of data stored and accessed electronically. Small databases can be stored on a file system, while large databases are hosted on computer clusters or cloud storage. The design of databases spans formal techniques and practical considerations, including data modeling, efficient data representation and storage, query languages, security and privacy of sensitive data, and distributed computing issues, including supporting concurrent access and fault tolerance.\\nA database management system (DBMS) is the software that interacts with end users, applications, and the database itself to capture and analyze the data. The DBMS software additionally encompasses the core facilities provided to administer the database. The sum total of the database, the DBMS and the associated applications can be referred to as a database system. Often the term \"database\" is also used loosely to refer to any of the DBMS, the database system or an application associated with the database.\\nComputer scientists may classify database management systems according to the database models that they support. Relational databases became dominant in the 1980s. These model data as rows and columns in a series of tables, and the vast majority use SQL for writing and querying data. In the 2000s, non-relational databases became popular, collectively referred to as NoSQL, because they use different query languages.'"
            ],
            "application/vnd.google.colaboratory.intrinsic+json": {
              "type": "string"
            }
          },
          "metadata": {},
          "execution_count": 3
        }
      ]
    },
    {
      "cell_type": "markdown",
      "source": [
        "# Preview"
      ],
      "metadata": {
        "id": "pA7d1XFpy4tn"
      }
    },
    {
      "cell_type": "markdown",
      "source": [
        "Есть реляционные и нереляционные базы данных"
      ],
      "metadata": {
        "id": "VSKIUxDt0jMG"
      }
    },
    {
      "cell_type": "markdown",
      "source": [
        "**Реляционные базы данных** -"
      ],
      "metadata": {
        "id": "E2Z6BvkrY5kd"
      }
    },
    {
      "cell_type": "markdown",
      "source": [
        "**Нереляционные базы данных** -"
      ],
      "metadata": {
        "id": "Tfo2WUneY9QN"
      }
    },
    {
      "cell_type": "markdown",
      "source": [],
      "metadata": {
        "id": "_oyjvgs6Y_XM"
      }
    },
    {
      "cell_type": "markdown",
      "source": [
        "# SQL базы данных"
      ],
      "metadata": {
        "id": "HXy23eHYWnul"
      }
    },
    {
      "cell_type": "markdown",
      "source": [],
      "metadata": {
        "id": "uLxAsEg7WrQl"
      }
    },
    {
      "cell_type": "markdown",
      "source": [
        "# NoSQL базы данных"
      ],
      "metadata": {
        "id": "LCCRvDJWlPRy"
      }
    },
    {
      "cell_type": "markdown",
      "source": [
        "## MongoDB"
      ],
      "metadata": {
        "id": "Hk30AqfJ0nb2"
      }
    },
    {
      "cell_type": "markdown",
      "source": [
        "Классное видео от Ulbi по MongoDB\n",
        "\n",
        "https://www.youtube.com/watch?v=LNvmI8a9jwY"
      ],
      "metadata": {
        "id": "Puth5FOiSlHZ"
      }
    },
    {
      "cell_type": "markdown",
      "source": [
        "Оьсновные особенности:\n",
        "\n",
        "*   Для хранения данных используетя json подобный формат\n",
        "*   Не требует описания схем таблиц\n",
        "*   Данные хранятся в виде коллекций и документов\n",
        "*   База данных содержит коллекции, коллекции содержат документы, документы хранятся в json подобном формате\n",
        "* У документов в одной коллекции не обязательно должна быть строгая структура\n",
        "\n"
      ],
      "metadata": {
        "id": "c9E1IR3MYqjk"
      }
    },
    {
      "cell_type": "markdown",
      "source": [],
      "metadata": {
        "id": "7BKa_hcwYzjO"
      }
    },
    {
      "cell_type": "markdown",
      "source": [
        "### Установка"
      ],
      "metadata": {
        "id": "iCaAoqn2DbY-"
      }
    },
    {
      "cell_type": "markdown",
      "source": [
        "Установка с сайти https://www.mongodb.com/"
      ],
      "metadata": {
        "id": "U2gxNwbbDdQF"
      }
    },
    {
      "cell_type": "markdown",
      "source": [
        "### Theory"
      ],
      "metadata": {
        "id": "TiZ-XokU0pqg"
      }
    },
    {
      "cell_type": "markdown",
      "source": [],
      "metadata": {
        "id": "0sx649XE98kh"
      }
    },
    {
      "cell_type": "markdown",
      "source": [
        "MongoDB - это документоориентированная система управления базой данных"
      ],
      "metadata": {
        "id": "zXVe3foQ0rOW"
      }
    },
    {
      "cell_type": "markdown",
      "source": [],
      "metadata": {
        "id": "IKgV9Zr6TYkI"
      }
    },
    {
      "cell_type": "markdown",
      "source": [
        "### Полезные команды"
      ],
      "metadata": {
        "id": "Qxyk3XXzWnJ8"
      }
    },
    {
      "cell_type": "markdown",
      "source": [
        "show databases - показывает базы данных\n",
        "use mongo - использовать базу данных в коллекции\n"
      ],
      "metadata": {
        "id": "06ddPbSeh3s8"
      }
    }
  ]
}