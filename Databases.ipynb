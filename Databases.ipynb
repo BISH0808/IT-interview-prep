{
  "nbformat": 4,
  "nbformat_minor": 0,
  "metadata": {
    "colab": {
      "provenance": [],
      "authorship_tag": "ABX9TyO4CiFED3U1dHRxKJeVEOnJ",
      "include_colab_link": true
    },
    "kernelspec": {
      "name": "python3",
      "display_name": "Python 3"
    },
    "language_info": {
      "name": "python"
    }
  },
  "cells": [
    {
      "cell_type": "markdown",
      "metadata": {
        "id": "view-in-github",
        "colab_type": "text"
      },
      "source": [
        "<a href=\"https://colab.research.google.com/github/BISH0808/IT-interview-prep/blob/main/Databases.ipynb\" target=\"_parent\"><img src=\"https://colab.research.google.com/assets/colab-badge.svg\" alt=\"Open In Colab\"/></a>"
      ]
    },
    {
      "cell_type": "markdown",
      "source": [
        "# Databases"
      ],
      "metadata": {
        "id": "2TLsOmu2y0o3"
      }
    },
    {
      "cell_type": "markdown",
      "source": [
        "# Preview"
      ],
      "metadata": {
        "id": "pA7d1XFpy4tn"
      }
    },
    {
      "cell_type": "markdown",
      "source": [
        "Есть реляционные и нереляционные базы данных"
      ],
      "metadata": {
        "id": "VSKIUxDt0jMG"
      }
    },
    {
      "cell_type": "markdown",
      "source": [
        "**Реляционные базы данных** -"
      ],
      "metadata": {
        "id": "E2Z6BvkrY5kd"
      }
    },
    {
      "cell_type": "markdown",
      "source": [
        "**Нереляционные базы данных** -"
      ],
      "metadata": {
        "id": "Tfo2WUneY9QN"
      }
    },
    {
      "cell_type": "markdown",
      "source": [],
      "metadata": {
        "id": "_oyjvgs6Y_XM"
      }
    },
    {
      "cell_type": "markdown",
      "source": [
        "# SQL"
      ],
      "metadata": {
        "id": "HXy23eHYWnul"
      }
    },
    {
      "cell_type": "markdown",
      "source": [],
      "metadata": {
        "id": "uLxAsEg7WrQl"
      }
    },
    {
      "cell_type": "markdown",
      "source": [
        "# MongoDB"
      ],
      "metadata": {
        "id": "Hk30AqfJ0nb2"
      }
    },
    {
      "cell_type": "markdown",
      "source": [
        "Классное видео от Ulbi по MongoDB\n",
        "\n",
        "https://www.youtube.com/watch?v=LNvmI8a9jwY"
      ],
      "metadata": {
        "id": "Puth5FOiSlHZ"
      }
    },
    {
      "cell_type": "markdown",
      "source": [
        "Оьсновные особенности:\n",
        "\n",
        "*   Для хранения данных используетя json подобный формат\n",
        "*   Не требует описания схем таблиц\n",
        "*   Данные хранятся в виде коллекций и документов\n",
        "*   База данных содержит коллекции, коллекции содержат документы, документы хранятся в json подобном формате\n",
        "* У документов в одной коллекции не обязательно должна быть строгая структура\n",
        "\n"
      ],
      "metadata": {
        "id": "c9E1IR3MYqjk"
      }
    },
    {
      "cell_type": "markdown",
      "source": [],
      "metadata": {
        "id": "7BKa_hcwYzjO"
      }
    },
    {
      "cell_type": "markdown",
      "source": [
        "## Установка"
      ],
      "metadata": {
        "id": "iCaAoqn2DbY-"
      }
    },
    {
      "cell_type": "markdown",
      "source": [
        "Установка с сайти https://www.mongodb.com/"
      ],
      "metadata": {
        "id": "U2gxNwbbDdQF"
      }
    },
    {
      "cell_type": "markdown",
      "source": [
        "## Theory"
      ],
      "metadata": {
        "id": "TiZ-XokU0pqg"
      }
    },
    {
      "cell_type": "markdown",
      "source": [
        "MongoDB - это документоориентированная система управления базой данных"
      ],
      "metadata": {
        "id": "zXVe3foQ0rOW"
      }
    },
    {
      "cell_type": "markdown",
      "source": [],
      "metadata": {
        "id": "IKgV9Zr6TYkI"
      }
    },
    {
      "cell_type": "markdown",
      "source": [],
      "metadata": {
        "id": "Qxyk3XXzWnJ8"
      }
    }
  ]
}