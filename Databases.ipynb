{
  "nbformat": 4,
  "nbformat_minor": 0,
  "metadata": {
    "colab": {
      "provenance": [],
      "authorship_tag": "ABX9TyMk5AQu6J1Q3IIS1B76y4BW",
      "include_colab_link": true
    },
    "kernelspec": {
      "name": "python3",
      "display_name": "Python 3"
    },
    "language_info": {
      "name": "python"
    }
  },
  "cells": [
    {
      "cell_type": "markdown",
      "metadata": {
        "id": "view-in-github",
        "colab_type": "text"
      },
      "source": [
        "<a href=\"https://colab.research.google.com/github/BISH0808/IT-interview-prep/blob/main/Databases.ipynb\" target=\"_parent\"><img src=\"https://colab.research.google.com/assets/colab-badge.svg\" alt=\"Open In Colab\"/></a>"
      ]
    },
    {
      "cell_type": "markdown",
      "source": [
        "# Databases"
      ],
      "metadata": {
        "id": "2TLsOmu2y0o3"
      }
    },
    {
      "cell_type": "markdown",
      "source": [
        "# Preview"
      ],
      "metadata": {
        "id": "pA7d1XFpy4tn"
      }
    },
    {
      "cell_type": "markdown",
      "source": [],
      "metadata": {
        "id": "VSKIUxDt0jMG"
      }
    },
    {
      "cell_type": "markdown",
      "source": [
        "# MongoDB"
      ],
      "metadata": {
        "id": "Hk30AqfJ0nb2"
      }
    },
    {
      "cell_type": "markdown",
      "source": [
        "## Theory"
      ],
      "metadata": {
        "id": "TiZ-XokU0pqg"
      }
    },
    {
      "cell_type": "markdown",
      "source": [],
      "metadata": {
        "id": "zXVe3foQ0rOW"
      }
    }
  ]
}